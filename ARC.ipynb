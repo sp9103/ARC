{
  "nbformat": 4,
  "nbformat_minor": 0,
  "metadata": {
    "colab": {
      "name": "ARC.ipynb",
      "provenance": [],
      "collapsed_sections": [],
      "authorship_tag": "ABX9TyOUDbHbKBOExzyvknU1gxh7",
      "include_colab_link": true
    },
    "kernelspec": {
      "name": "python3",
      "display_name": "Python 3"
    }
  },
  "cells": [
    {
      "cell_type": "markdown",
      "metadata": {
        "id": "view-in-github",
        "colab_type": "text"
      },
      "source": [
        "<a href=\"https://colab.research.google.com/github/sp9103/ARC/blob/master/ARC.ipynb\" target=\"_parent\"><img src=\"https://colab.research.google.com/assets/colab-badge.svg\" alt=\"Open In Colab\"/></a>"
      ]
    },
    {
      "cell_type": "code",
      "metadata": {
        "id": "98ieyntw1Gtv",
        "colab_type": "code",
        "colab": {}
      },
      "source": [
        "import numpy as np\n",
        "import pandas as pd\n",
        "from google.colab import files\n",
        "from google.colab import drive\n",
        "from pathlib import Path\n",
        "import os\n",
        "import json\n",
        "\n",
        "pd.set_option('display.precision', 8)"
      ],
      "execution_count": 0,
      "outputs": []
    },
    {
      "cell_type": "code",
      "metadata": {
        "id": "szruhMp92lEw",
        "colab_type": "code",
        "colab": {}
      },
      "source": [
        "import seaborn as sns\n",
        "import matplotlib.pyplot as plt\n",
        "from matplotlib import colors\n",
        "from tqdm import tqdm"
      ],
      "execution_count": 0,
      "outputs": []
    },
    {
      "cell_type": "code",
      "metadata": {
        "id": "xpM0q6hy2S-p",
        "colab_type": "code",
        "outputId": "fa239822-dd32-45da-cf40-cbd1608a0110",
        "colab": {
          "base_uri": "https://localhost:8080/",
          "height": 127
        }
      },
      "source": [
        "path = '/content/gdrive'\n",
        "drive.mount(path)\n",
        "path += '/My Drive/ARC'\n",
        "\n",
        "cmap = colors.ListedColormap(\n",
        "            ['#000000', '#0074D9','#FF4136','#2ECC40','#FFDC00',\n",
        "             '#AAAAAA', '#F012BE', '#FF851B', '#7FDBFF', '#870C25'])"
      ],
      "execution_count": 6,
      "outputs": [
        {
          "output_type": "stream",
          "text": [
            "Go to this URL in a browser: https://accounts.google.com/o/oauth2/auth?client_id=947318989803-6bn6qk8qdgf4n4g3pfee6491hc0brc4i.apps.googleusercontent.com&redirect_uri=urn%3aietf%3awg%3aoauth%3a2.0%3aoob&response_type=code&scope=email%20https%3a%2f%2fwww.googleapis.com%2fauth%2fdocs.test%20https%3a%2f%2fwww.googleapis.com%2fauth%2fdrive%20https%3a%2f%2fwww.googleapis.com%2fauth%2fdrive.photos.readonly%20https%3a%2f%2fwww.googleapis.com%2fauth%2fpeopleapi.readonly\n",
            "\n",
            "Enter your authorization code:\n",
            "··········\n",
            "Mounted at /content/gdrive\n"
          ],
          "name": "stdout"
        }
      ]
    },
    {
      "cell_type": "code",
      "metadata": {
        "id": "bYg1kOa15K6H",
        "colab_type": "code",
        "colab": {}
      },
      "source": [
        "TEST_PATH = Path(path)\n",
        "SUBMISSION_PATH = Path(path)\n",
        "\n",
        "TEST_PATH = TEST_PATH / 'test'\n",
        "SUBMISSION_PATH = SUBMISSION_PATH / 'sample_submission.csv'"
      ],
      "execution_count": 0,
      "outputs": []
    },
    {
      "cell_type": "markdown",
      "metadata": {
        "id": "NgQTm-Ql6Gsa",
        "colab_type": "text"
      },
      "source": [
        "# Load Data"
      ]
    },
    {
      "cell_type": "code",
      "metadata": {
        "id": "1VXD6Sze5P1N",
        "colab_type": "code",
        "outputId": "bc4fca7d-c4ce-4f49-c05e-15d37071cc78",
        "colab": {
          "base_uri": "https://localhost:8080/",
          "height": 35
        }
      },
      "source": [
        "test_task_files = sorted(os.listdir(TEST_PATH))\n",
        "\n",
        "test_tasks = []\n",
        "for task_file in tqdm(test_task_files):\n",
        "    with open(str(TEST_PATH / task_file), 'r') as f:\n",
        "        task = json.load(f)\n",
        "        test_tasks.append(task)"
      ],
      "execution_count": 8,
      "outputs": [
        {
          "output_type": "stream",
          "text": [
            "100%|██████████| 100/100 [00:15<00:00,  7.44it/s]\n"
          ],
          "name": "stderr"
        }
      ]
    },
    {
      "cell_type": "markdown",
      "metadata": {
        "id": "xer4U2EM6yDG",
        "colab_type": "text"
      },
      "source": [
        "# Extract training / testing data"
      ]
    },
    {
      "cell_type": "code",
      "metadata": {
        "id": "0a0MErlK6YkB",
        "colab_type": "code",
        "colab": {}
      },
      "source": [
        "Xs_test, Xs_train, ys_train = [], [], []\n",
        "\n",
        "for task in test_tasks:\n",
        "    X_test, X_train, y_train = [], [], []\n",
        "\n",
        "    for pair in task[\"test\"]:\n",
        "        X_test.append(pair[\"input\"])\n",
        "\n",
        "    for pair in task[\"train\"]:\n",
        "        X_train.append(pair[\"input\"])\n",
        "        y_train.append(pair[\"output\"])\n",
        "\n",
        "    Xs_test.append(X_test)\n",
        "    Xs_train.append(X_train)\n",
        "    ys_train.append(y_train)"
      ],
      "execution_count": 0,
      "outputs": []
    },
    {
      "cell_type": "code",
      "metadata": {
        "id": "T8R1INZz6jJu",
        "colab_type": "code",
        "colab": {}
      },
      "source": [
        "matrices = []\n",
        "for X_test in Xs_test:\n",
        "    for X in X_test:\n",
        "        matrices.append(X)\n",
        "\n",
        "values = []\n",
        "for matrix in matrices:\n",
        "    for row in matrix:\n",
        "        for value in row:\n",
        "            values.append(value)\n",
        "\n",
        "df = pd.DataFrame(values)\n",
        "df.columns = ['values']"
      ],
      "execution_count": 0,
      "outputs": []
    },
    {
      "cell_type": "code",
      "metadata": {
        "id": "D6-w1JDlNN-7",
        "colab_type": "code",
        "outputId": "0830c8f5-1ed7-4a5a-83c5-62db8b6b7933",
        "colab": {
          "base_uri": "https://localhost:8080/",
          "height": 204
        }
      },
      "source": [
        "df.head()"
      ],
      "execution_count": 0,
      "outputs": [
        {
          "output_type": "execute_result",
          "data": {
            "text/html": [
              "<div>\n",
              "<style scoped>\n",
              "    .dataframe tbody tr th:only-of-type {\n",
              "        vertical-align: middle;\n",
              "    }\n",
              "\n",
              "    .dataframe tbody tr th {\n",
              "        vertical-align: top;\n",
              "    }\n",
              "\n",
              "    .dataframe thead th {\n",
              "        text-align: right;\n",
              "    }\n",
              "</style>\n",
              "<table border=\"1\" class=\"dataframe\">\n",
              "  <thead>\n",
              "    <tr style=\"text-align: right;\">\n",
              "      <th></th>\n",
              "      <th>values</th>\n",
              "    </tr>\n",
              "  </thead>\n",
              "  <tbody>\n",
              "    <tr>\n",
              "      <th>0</th>\n",
              "      <td>3</td>\n",
              "    </tr>\n",
              "    <tr>\n",
              "      <th>1</th>\n",
              "      <td>2</td>\n",
              "    </tr>\n",
              "    <tr>\n",
              "      <th>2</th>\n",
              "      <td>7</td>\n",
              "    </tr>\n",
              "    <tr>\n",
              "      <th>3</th>\n",
              "      <td>8</td>\n",
              "    </tr>\n",
              "    <tr>\n",
              "      <th>4</th>\n",
              "      <td>0</td>\n",
              "    </tr>\n",
              "  </tbody>\n",
              "</table>\n",
              "</div>"
            ],
            "text/plain": [
              "   values\n",
              "0       3\n",
              "1       2\n",
              "2       7\n",
              "3       8\n",
              "4       0"
            ]
          },
          "metadata": {
            "tags": []
          },
          "execution_count": 13
        }
      ]
    },
    {
      "cell_type": "code",
      "metadata": {
        "id": "zvLFRUcDAgrP",
        "colab_type": "code",
        "colab": {
          "base_uri": "https://localhost:8080/",
          "height": 35
        },
        "outputId": "4f676245-9ff3-498b-de75-d41deb1449bf"
      },
      "source": [
        "Xs_test[0]"
      ],
      "execution_count": 12,
      "outputs": [
        {
          "output_type": "execute_result",
          "data": {
            "text/plain": [
              "[[[3, 2], [7, 8]]]"
            ]
          },
          "metadata": {
            "tags": []
          },
          "execution_count": 12
        }
      ]
    },
    {
      "cell_type": "markdown",
      "metadata": {
        "id": "QP-7xt6EHvcc",
        "colab_type": "text"
      },
      "source": [
        "# Visualize Data"
      ]
    },
    {
      "cell_type": "code",
      "metadata": {
        "id": "rGHOtE5c8YdB",
        "colab_type": "code",
        "outputId": "db806c07-da67-4530-9f8f-065cf2bab67e",
        "colab": {
          "base_uri": "https://localhost:8080/",
          "height": 1000
        }
      },
      "source": [
        "def plot_partial(ax, img, title):\n",
        "    norm = colors.Normalize(vmin=0, vmax=9)\n",
        "    ax.imshow(img, cmap=cmap, norm=norm)\n",
        "    width = np.shape(img)[1]\n",
        "    height = np.shape(img)[0]\n",
        "    ax.set_xticks(np.arange(0,width))\n",
        "    ax.set_yticks(np.arange(0,height))\n",
        "    ax.set_xticklabels([])\n",
        "    ax.set_yticklabels([])\n",
        "    ax.tick_params(length=0)\n",
        "    ax.grid(True)\n",
        "    ax.set_title(title)\n",
        "\n",
        "def plot_task(task):\n",
        "    fig, ax = plt.subplots(1, 4, figsize=(15,15))\n",
        "    plot_partial(ax[0], task['train'][0]['input'], 'Train Input')\n",
        "    plot_partial(ax[1], task['train'][0]['output'], 'Train Output')\n",
        "    plot_partial(ax[2], task['test'][0]['input'], 'Test Input')\n",
        "    plot_partial(ax[3], task['test'][0]['output'], 'Test Output')\n",
        "    plt.tight_layout()\n",
        "    plt.show()\n",
        "\n",
        "data_path = Path(path)\n",
        "training_path = data_path / 'training'\n",
        "training_tasks = sorted(os.listdir(training_path))\n",
        "\n",
        "for i in (0, 1, 5, 9):\n",
        "    task_file = str(training_path / training_tasks[i])\n",
        "\n",
        "    with open(task_file, 'r') as f:\n",
        "        task = json.load(f)\n",
        "\n",
        "    plot_task(task)\n",
        "\n",
        "    "
      ],
      "execution_count": 0,
      "outputs": [
        {
          "output_type": "display_data",
          "data": {
            "image/png": "[encoded data removed]",
            "text/plain": [
              "<Figure size 1080x1080 with 4 Axes>"
            ]
          },
          "metadata": {
            "tags": []
          }
        },
        {
          "output_type": "display_data",
          "data": {
            "image/png": "[encoded data removed]",
            "text/plain": [
              "<Figure size 1080x1080 with 4 Axes>"
            ]
          },
          "metadata": {
            "tags": []
          }
        },
        {
          "output_type": "display_data",
          "data": {
            "image/png": "[encoded data removed]",
            "text/plain": [
              "<Figure size 1080x1080 with 4 Axes>"
            ]
          },
          "metadata": {
            "tags": []
          }
        },
        {
          "output_type": "display_data",
          "data": {
            "image/png": "[encoded data removed]",
            "text/plain": [
              "<Figure size 1080x1080 with 4 Axes>"
            ]
          },
          "metadata": {
            "tags": []
          }
        }
      ]
    },
    {
      "cell_type": "code",
      "metadata": {
        "id": "5dd21V2NQ14o",
        "colab_type": "code",
        "colab": {}
      },
      "source": [
        ""
      ],
      "execution_count": 0,
      "outputs": []
    }
  ]
}